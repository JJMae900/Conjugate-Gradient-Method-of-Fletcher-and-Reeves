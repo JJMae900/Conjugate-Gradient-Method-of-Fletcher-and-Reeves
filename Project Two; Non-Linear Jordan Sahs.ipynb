{
 "cells": [
  {
   "cell_type": "markdown",
   "id": "c2cad13d",
   "metadata": {},
   "source": [
    "# Project Two, Non-Linear Programming\n",
    "# Jordan Sahs\n",
    "\n",
    "----\n",
    "\n",
    "## Conjugate Gradient Method of Fletcher and Reeves\n",
    "\n",
    "Benchmark problems were derived from here: https://en.wikipedia.org/wiki/Test_functions_for_optimization\n",
    "\n",
    "-----\n",
    "\n",
    "### Note: Must install numbdifftools for taking the gradient"
   ]
  },
  {
   "cell_type": "code",
   "execution_count": 1,
   "id": "70c0819e",
   "metadata": {},
   "outputs": [],
   "source": [
    "#!pip install numdifftools"
   ]
  },
  {
   "cell_type": "markdown",
   "id": "23b5c8bb",
   "metadata": {},
   "source": [
    "## Global Parameters"
   ]
  },
  {
   "cell_type": "code",
   "execution_count": 2,
   "id": "1aca5cd8",
   "metadata": {},
   "outputs": [],
   "source": [
    "import numdifftools as nd, math, numpy as np, random as rand\n",
    "\n",
    "#Global Parameters\n",
    "e = 0.0001\n",
    "accuracy = 10\n",
    "number_of_variables = 10"
   ]
  },
  {
   "cell_type": "markdown",
   "id": "80b65ed6",
   "metadata": {},
   "source": [
    "## Conjugate Gradient Method of Fletcher and Reeves"
   ]
  },
  {
   "cell_type": "code",
   "execution_count": 3,
   "id": "1ff73f0f",
   "metadata": {},
   "outputs": [],
   "source": [
    "def Fletcher_Reeves(x, e, func, penalty = False):\n",
    "    \n",
    "    def norm(gradient):\n",
    "        return round(math.sqrt(sum([grad**2 for grad in gradient])), accuracy)\n",
    "    \n",
    "    #For Unconstrained Problems, KKT is nothing more than a sub-gradient optimality condition.\n",
    "    def KKT_Optimality(gradient):\n",
    "        return np.round(sum(gradient), 0) == 0\n",
    "    \n",
    "    \n",
    "    # Looks for the best region in R to find an optimal solution.\n",
    "    # The value \"a\", the lowerbound, is always assumed to be zero,\n",
    "    # as lambda has to be non-negative.\n",
    "    def initial_search_region(y, d):\n",
    "        \n",
    "        c = 0\n",
    "        \n",
    "        while True:\n",
    "            \n",
    "            b = math.pow(2, c)\n",
    "            \n",
    "            lower = func(y)\n",
    "            high  = func(y + b*d)\n",
    "            mid   = func(y + (b/2)*d)\n",
    "            \n",
    "            if mid > lower:\n",
    "                c -= 1\n",
    "                \n",
    "            elif mid > high:\n",
    "                c += 1\n",
    "                \n",
    "            else:\n",
    "                break\n",
    "                \n",
    "        return b\n",
    "    \n",
    "    \n",
    "    def golden_ratio(region, y, d):\n",
    "        \n",
    "        a, b = region[0], region[1]\n",
    "        \n",
    "        lamb = a + (1 - 0.618)*(b - a)\n",
    "        mu   = a + 0.618*(b - a)\n",
    "        \n",
    "        flamb = func(y + lamb*d)\n",
    "        fmu   = func(y + mu*d)\n",
    "        \n",
    "        while b - a > e:\n",
    "            \n",
    "            if flamb > fmu:\n",
    "                \n",
    "                a = lamb\n",
    "                lamb = mu\n",
    "                mu = a + 0.618*(b - a)\n",
    "                fmu   = func(y + mu*d)\n",
    "                \n",
    "            elif flamb <= fmu:\n",
    "                \n",
    "                b = mu\n",
    "                mu = lamb\n",
    "                lamb = a + (1 - 0.618)*(b - a)\n",
    "                flamb   = func(y + lamb*d)\n",
    "                \n",
    "            \n",
    "        return (a+b)/2\n",
    "        \n",
    "        \n",
    "            \n",
    "    #######################################\n",
    "    # Fletcher and Reeves Algorithm Start\n",
    "    #######################################\n",
    "    \n",
    "    y = np.copy(x)\n",
    "    \n",
    "    grad = nd.Gradient(func)(y)\n",
    "    \n",
    "    d = -grad\n",
    "    \n",
    "    k, j = 1, 1\n",
    "    \n",
    "    while norm(grad) > e:\n",
    "        \n",
    "        #Solve Minimization Function\n",
    "        lamb = golden_ratio([0, initial_search_region(y, d)], y, d)\n",
    "        \n",
    "        #Assign new y\n",
    "        y = np.round(y + lamb * d, accuracy)\n",
    "        \n",
    "        if j < len(x):\n",
    "            \n",
    "            #Calculate new direction\n",
    "            prev_grad = np.copy(grad)\n",
    "            grad = nd.Gradient(func)(y)\n",
    "            \n",
    "            alpha = sum([g**2 for g in grad])/sum([g**2 for g in prev_grad])\n",
    "\n",
    "            d = np.round(-grad + alpha*d, accuracy)\n",
    "            \n",
    "            j += 1\n",
    "            \n",
    "        else:\n",
    "            j = 1\n",
    "            k += 1\n",
    "            \n",
    "            grad = nd.Gradient(func)(y)\n",
    "            d = -grad\n",
    "    \n",
    "    if not penalty:\n",
    "        print(f\"Close to optimal point: {y}\")\n",
    "        print(f\"Value of the function: {round(func(y), accuracy)}\")\n",
    "        print(f\"Number of iterations: {k}\")\n",
    "        print(f\"Is KKT Optimal? {KKT_Optimality(grad)}\")\n",
    "        \n",
    "    else: \n",
    "        return y"
   ]
  },
  {
   "cell_type": "markdown",
   "id": "5518ffa9",
   "metadata": {},
   "source": [
    "# Problem One: Quasiconvex Function\n",
    "\n",
    "Sphere Function:\n",
    "\n",
    "$$f = \\sum_{j=0}^n x_i^2$$\n",
    "\n",
    "Optimality is acieved where $(x_1, \\ldots, x_n) = (0,\\ldots, 0)$ with $f=0$"
   ]
  },
  {
   "cell_type": "code",
   "execution_count": 4,
   "id": "dff70488",
   "metadata": {},
   "outputs": [],
   "source": [
    "def quasiconvex_func(x):\n",
    "    return sum([i**2 for i in x])"
   ]
  },
  {
   "cell_type": "code",
   "execution_count": 5,
   "id": "dd3d0514",
   "metadata": {},
   "outputs": [
    {
     "name": "stdout",
     "output_type": "stream",
     "text": [
      "Close to optimal point: [8.0468e-06 8.0468e-06 8.0468e-06 8.0468e-06 8.0468e-06 8.0468e-06\n",
      " 8.0468e-06 8.0468e-06 8.0468e-06 8.0468e-06]\n",
      "Value of the function: 6e-10\n",
      "Number of iterations: 2\n",
      "Is KKT Optimal? True\n"
     ]
    }
   ],
   "source": [
    "Fletcher_Reeves([500] * number_of_variables, e, quasiconvex_func)"
   ]
  },
  {
   "cell_type": "code",
   "execution_count": 6,
   "id": "0c08a70f",
   "metadata": {},
   "outputs": [
    {
     "name": "stdout",
     "output_type": "stream",
     "text": [
      "Close to optimal point: [2.8714e-06 2.8714e-06 2.8714e-06 2.8714e-06 2.8714e-06 2.8714e-06\n",
      " 2.8714e-06 2.8714e-06 2.8714e-06 2.8714e-06]\n",
      "Value of the function: 1e-10\n",
      "Number of iterations: 2\n",
      "Is KKT Optimal? True\n"
     ]
    }
   ],
   "source": [
    "Fletcher_Reeves([999] * number_of_variables, e, quasiconvex_func)"
   ]
  },
  {
   "cell_type": "code",
   "execution_count": 7,
   "id": "ed8b0c02",
   "metadata": {},
   "outputs": [
    {
     "name": "stdout",
     "output_type": "stream",
     "text": [
      "Close to optimal point: [-8.0468e-06 -8.0468e-06 -8.0468e-06 -8.0468e-06 -8.0468e-06 -8.0468e-06\n",
      " -8.0468e-06 -8.0468e-06 -8.0468e-06 -8.0468e-06]\n",
      "Value of the function: 6e-10\n",
      "Number of iterations: 2\n",
      "Is KKT Optimal? True\n"
     ]
    }
   ],
   "source": [
    "Fletcher_Reeves([-500] * number_of_variables, e, quasiconvex_func)"
   ]
  },
  {
   "cell_type": "markdown",
   "id": "0cfc482e",
   "metadata": {},
   "source": [
    "# Problem Two: Multi Function\n",
    "\n",
    "The Shekel function will be used due to the amounts of minima solutions: https://en.wikipedia.org/wiki/Shekel_function\n",
    "\n",
    "----\n",
    "\n",
    "The exact function being used is:\n",
    "\n",
    "$$f = \\sum^{m}_{i=0}\\left(c_i + \\sum_{j=0}^n(x_j - a_{ij})^2\\right)^{-1}$$"
   ]
  },
  {
   "cell_type": "code",
   "execution_count": 8,
   "id": "c6d34f2c",
   "metadata": {},
   "outputs": [],
   "source": [
    "maxima = 10\n",
    "\n",
    "c = [rand.randint(0, number_of_variables) for i in range(maxima)]\n",
    "\n",
    "a = [[rand.randint(0, number_of_variables) for i in range(number_of_variables)] for i in range(maxima)]\n",
    "\n",
    "def multi_func(x):\n",
    "    return math.sqrt(sum([1/(c[i] + sum([(x[j]-a[i][j])**2 for j in range(number_of_variables)])) for i in range(maxima)]))"
   ]
  },
  {
   "cell_type": "code",
   "execution_count": 9,
   "id": "4b607f21",
   "metadata": {},
   "outputs": [
    {
     "name": "stdout",
     "output_type": "stream",
     "text": [
      "Close to optimal point: [99 99 99 99 99 99 99 99 99 99]\n",
      "Value of the function: 0.0106142444\n",
      "Number of iterations: 1\n",
      "Is KKT Optimal? True\n"
     ]
    }
   ],
   "source": [
    "Fletcher_Reeves([99] * number_of_variables, e, multi_func)"
   ]
  },
  {
   "cell_type": "code",
   "execution_count": 10,
   "id": "cde02fe0",
   "metadata": {},
   "outputs": [
    {
     "name": "stdout",
     "output_type": "stream",
     "text": [
      "Close to optimal point: [1500 1500 1500 1500 1500 1500 1500 1500 1500 1500]\n",
      "Value of the function: 0.0006688149\n",
      "Number of iterations: 1\n",
      "Is KKT Optimal? True\n"
     ]
    }
   ],
   "source": [
    "Fletcher_Reeves([1500] * number_of_variables, e, multi_func)"
   ]
  },
  {
   "cell_type": "code",
   "execution_count": 11,
   "id": "e1b0bd62",
   "metadata": {},
   "outputs": [
    {
     "name": "stdout",
     "output_type": "stream",
     "text": [
      "Close to optimal point: [-1500 -1500 -1500 -1500 -1500 -1500 -1500 -1500 -1500 -1500]\n",
      "Value of the function: 0.0006645304\n",
      "Number of iterations: 1\n",
      "Is KKT Optimal? True\n"
     ]
    }
   ],
   "source": [
    "Fletcher_Reeves([-1500] * number_of_variables, e, multi_func)"
   ]
  },
  {
   "cell_type": "markdown",
   "id": "5b318368",
   "metadata": {},
   "source": [
    "# Extra Benchmarks: Rosenbrock Function\n",
    "\n",
    "\"In mathematical optimization, the Rosenbrock function is a non-convex function, introduced by Howard H. Rosenbrock in 1960,... It is also known as Rosenbrock's valley or Rosenbrock's banana function.\" - from Wikipedia: https://en.wikipedia.org/wiki/Rosenbrock_function\n",
    "\n",
    "This is to motivate its constrained use in problem three.\n",
    "\n",
    "Note that the global minimum is around $x = (1,1,\\ldots,1,1)$\n",
    "\n",
    "-----\n",
    "\n",
    "The exact function being used:\n",
    "\n",
    "$$\\sum_{i=0}^{n-1}100(x_{i+1} - x_i)^2 + (1-x_i)^2$$"
   ]
  },
  {
   "cell_type": "code",
   "execution_count": 12,
   "id": "ec0388ab",
   "metadata": {},
   "outputs": [],
   "source": [
    "def Rosenbrock_function(x):\n",
    "    return sum([100*(x[i+1] - x[i])**2 + (1 - x[i])**2 for i in range(len(x)-1)])"
   ]
  },
  {
   "cell_type": "code",
   "execution_count": 13,
   "id": "42012bec",
   "metadata": {},
   "outputs": [
    {
     "name": "stdout",
     "output_type": "stream",
     "text": [
      "Close to optimal point: [1.00000953 1.00000968 1.00000986 1.00000989 1.00000991 1.0000101\n",
      " 1.00001045 1.00001067 1.00001076 1.00001081]\n",
      "Value of the function: 9e-10\n",
      "Number of iterations: 36\n",
      "Is KKT Optimal? True\n"
     ]
    }
   ],
   "source": [
    "Fletcher_Reeves([0] * number_of_variables, e, Rosenbrock_function)"
   ]
  },
  {
   "cell_type": "code",
   "execution_count": 14,
   "id": "179667e4",
   "metadata": {},
   "outputs": [
    {
     "name": "stdout",
     "output_type": "stream",
     "text": [
      "Close to optimal point: [1.00000254 1.00000266 1.00000269 1.00000267 1.00000276 1.00000273\n",
      " 1.00000264 1.00000268 1.00000278 1.00000274]\n",
      "Value of the function: 1e-10\n",
      "Number of iterations: 69\n",
      "Is KKT Optimal? True\n"
     ]
    }
   ],
   "source": [
    "Fletcher_Reeves([50] * number_of_variables, e, Rosenbrock_function)"
   ]
  },
  {
   "cell_type": "markdown",
   "id": "40990149",
   "metadata": {},
   "source": [
    "# Problem Three: Constrained Function\n",
    "\n",
    "Rosenbrock function constrained with a $n-1$ cubics and lines:\n",
    "\n",
    "Constaint One:\n",
    "\n",
    "$$(x_i-1)^3 - x_{i+1}+1\\le0\\quad\\forall i \\in [1,\\ldots,n-1]$$\n",
    "\n",
    "Constaint two:\n",
    "\n",
    "$$x_i+x_{i+1}\\le2\\quad\\forall i \\in [1,\\ldots,n-1]$$"
   ]
  },
  {
   "cell_type": "code",
   "execution_count": 15,
   "id": "7c4d15d3",
   "metadata": {},
   "outputs": [],
   "source": [
    "def constraint_one(x):\n",
    "    return [(x[i] - 1)**3 - x[i + 1] + 1 for i in range(len(x)-1)]\n",
    "\n",
    "def constraint_two(x):\n",
    "    return [x[i] + x[i + 1] - 2 for i in range(len(x)-1)]"
   ]
  },
  {
   "cell_type": "code",
   "execution_count": 16,
   "id": "ce436054",
   "metadata": {},
   "outputs": [],
   "source": [
    "def penalty_method(x, u, B, func, constraints):\n",
    "    \n",
    "    def pen_func(z):\n",
    "        return sum([max(0, i) for i in constraints[0](z)])**2 + sum([abs(i) for i in constraints[1](z)])**2\n",
    "    \n",
    "    def merged_func(y):\n",
    "        return func(y) + u*pen_func(y)\n",
    "    \n",
    "    k = 0\n",
    "\n",
    "    while u*pen_func(x) > e:\n",
    "        \n",
    "        x = Fletcher_Reeves(x, e, merged_func, True)\n",
    "        \n",
    "        u = B*u\n",
    "        \n",
    "        k += 1\n",
    "        \n",
    "    print(f\"Close to optimal point: {x}\")\n",
    "    print(f\"Value of the function: {round(func(x), accuracy)}\")\n",
    "    print(f\"Number of iterations: {k}\")\n",
    "    \n",
    "    optimality = True\n",
    "    \n",
    "    for c in constraint_one(x):\n",
    "        if c > e:\n",
    "            optimality = False\n",
    "            break\n",
    "            \n",
    "    for c in constraint_two(x):\n",
    "        if c > e or not optimality:\n",
    "            optimality = False\n",
    "            break\n",
    "            \n",
    "    print(f\"Is solution feasible? {optimality}\")"
   ]
  },
  {
   "cell_type": "code",
   "execution_count": 17,
   "id": "30c63216",
   "metadata": {},
   "outputs": [
    {
     "name": "stdout",
     "output_type": "stream",
     "text": [
      "Close to optimal point: [1.00000038 1.00000018 1.00000017 1.00000003 1.00000003 0.99999998\n",
      " 1.00000004 1.00000006 1.00000005 1.00000019]\n",
      "Value of the function: 0.0\n",
      "Number of iterations: 1\n",
      "Is solution feasible? True\n"
     ]
    }
   ],
   "source": [
    "penalty_method([0] * number_of_variables, 10, 2, Rosenbrock_function, [constraint_one, constraint_two])"
   ]
  },
  {
   "cell_type": "code",
   "execution_count": 18,
   "id": "f3b562fe",
   "metadata": {},
   "outputs": [
    {
     "name": "stdout",
     "output_type": "stream",
     "text": [
      "Close to optimal point: [1.0000001  0.99999999 0.99999995 0.99999986 0.99999998 0.99999998\n",
      " 1.00000005 1.00000002 1.00000004 0.99999999]\n",
      "Value of the function: 0.0\n",
      "Number of iterations: 1\n",
      "Is solution feasible? True\n"
     ]
    }
   ],
   "source": [
    "penalty_method([100] * number_of_variables, 10, 2, Rosenbrock_function, [constraint_one, constraint_two])"
   ]
  },
  {
   "cell_type": "code",
   "execution_count": 19,
   "id": "dfe2dc6e",
   "metadata": {},
   "outputs": [
    {
     "name": "stdout",
     "output_type": "stream",
     "text": [
      "Close to optimal point: [1.00000025 1.00000015 1.00000001 0.99999997 1.00000008 1.00000012\n",
      " 1.00000001 0.99999998 1.00000004 1.0000001 ]\n",
      "Value of the function: 0.0\n",
      "Number of iterations: 1\n",
      "Is solution feasible? True\n"
     ]
    }
   ],
   "source": [
    "penalty_method([-100] * number_of_variables, 10, 2, Rosenbrock_function, [constraint_one, constraint_two])"
   ]
  }
 ],
 "metadata": {
  "kernelspec": {
   "display_name": "Python 3 (ipykernel)",
   "language": "python",
   "name": "python3"
  },
  "language_info": {
   "codemirror_mode": {
    "name": "ipython",
    "version": 3
   },
   "file_extension": ".py",
   "mimetype": "text/x-python",
   "name": "python",
   "nbconvert_exporter": "python",
   "pygments_lexer": "ipython3",
   "version": "3.10.9"
  }
 },
 "nbformat": 4,
 "nbformat_minor": 5
}
